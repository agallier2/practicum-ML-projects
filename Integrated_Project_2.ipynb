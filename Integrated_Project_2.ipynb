{
  "nbformat": 4,
  "nbformat_minor": 0,
  "metadata": {
    "kernelspec": {
      "display_name": "Python 3",
      "language": "python",
      "name": "python3"
    },
    "language_info": {
      "codemirror_mode": {
        "name": "ipython",
        "version": 3
      },
      "file_extension": ".py",
      "mimetype": "text/x-python",
      "name": "python",
      "nbconvert_exporter": "python",
      "pygments_lexer": "ipython3",
      "version": "3.7.6"
    },
    "colab": {
      "name": "Integrated Project 2",
      "provenance": []
    }
  },
  "cells": [
    {
      "cell_type": "code",
      "metadata": {
        "id": "UxzELz8a_o-s"
      },
      "source": [
        "import pandas as pd\n",
        "from sklearn.tree import DecisionTreeRegressor\n",
        "from sklearn.ensemble import RandomForestRegressor\n",
        "from sklearn.linear_model import LinearRegression\n",
        "\n",
        "from sklearn.metrics import mean_absolute_error\n",
        "from sklearn.model_selection import train_test_split\n",
        "from matplotlib import pyplot as plt\n",
        "\n"
      ],
      "execution_count": null,
      "outputs": []
    },
    {
      "cell_type": "markdown",
      "metadata": {
        "id": "GCu_N7NC_o-3"
      },
      "source": [
        "# 1. Prepare the data"
      ]
    },
    {
      "cell_type": "code",
      "metadata": {
        "id": "5E2pmPXi_o-5",
        "outputId": "1c270344-c85c-4e5f-a952-39faaa1ce8d2"
      },
      "source": [
        "train = pd.read_csv('/datasets/gold_recovery_train.csv')\n",
        "test = pd.read_csv('/datasets/gold_recovery_test.csv')\n",
        "full = pd.read_csv('/datasets/gold_recovery_full.csv')\n",
        "\n",
        "print(train.info())\n",
        "\n",
        "print(test.info())\n",
        "\n",
        "print(full.info())"
      ],
      "execution_count": null,
      "outputs": [
        {
          "output_type": "stream",
          "text": [
            "<class 'pandas.core.frame.DataFrame'>\n",
            "RangeIndex: 16860 entries, 0 to 16859\n",
            "Data columns (total 87 columns):\n",
            "date                                                  16860 non-null object\n",
            "final.output.concentrate_ag                           16788 non-null float64\n",
            "final.output.concentrate_pb                           16788 non-null float64\n",
            "final.output.concentrate_sol                          16490 non-null float64\n",
            "final.output.concentrate_au                           16789 non-null float64\n",
            "final.output.recovery                                 15339 non-null float64\n",
            "final.output.tail_ag                                  16794 non-null float64\n",
            "final.output.tail_pb                                  16677 non-null float64\n",
            "final.output.tail_sol                                 16715 non-null float64\n",
            "final.output.tail_au                                  16794 non-null float64\n",
            "primary_cleaner.input.sulfate                         15553 non-null float64\n",
            "primary_cleaner.input.depressant                      15598 non-null float64\n",
            "primary_cleaner.input.feed_size                       16860 non-null float64\n",
            "primary_cleaner.input.xanthate                        15875 non-null float64\n",
            "primary_cleaner.output.concentrate_ag                 16778 non-null float64\n",
            "primary_cleaner.output.concentrate_pb                 16502 non-null float64\n",
            "primary_cleaner.output.concentrate_sol                16224 non-null float64\n",
            "primary_cleaner.output.concentrate_au                 16778 non-null float64\n",
            "primary_cleaner.output.tail_ag                        16777 non-null float64\n",
            "primary_cleaner.output.tail_pb                        16761 non-null float64\n",
            "primary_cleaner.output.tail_sol                       16579 non-null float64\n",
            "primary_cleaner.output.tail_au                        16777 non-null float64\n",
            "primary_cleaner.state.floatbank8_a_air                16820 non-null float64\n",
            "primary_cleaner.state.floatbank8_a_level              16827 non-null float64\n",
            "primary_cleaner.state.floatbank8_b_air                16820 non-null float64\n",
            "primary_cleaner.state.floatbank8_b_level              16833 non-null float64\n",
            "primary_cleaner.state.floatbank8_c_air                16822 non-null float64\n",
            "primary_cleaner.state.floatbank8_c_level              16833 non-null float64\n",
            "primary_cleaner.state.floatbank8_d_air                16821 non-null float64\n",
            "primary_cleaner.state.floatbank8_d_level              16833 non-null float64\n",
            "rougher.calculation.sulfate_to_au_concentrate         16833 non-null float64\n",
            "rougher.calculation.floatbank10_sulfate_to_au_feed    16833 non-null float64\n",
            "rougher.calculation.floatbank11_sulfate_to_au_feed    16833 non-null float64\n",
            "rougher.calculation.au_pb_ratio                       15618 non-null float64\n",
            "rougher.input.feed_ag                                 16778 non-null float64\n",
            "rougher.input.feed_pb                                 16632 non-null float64\n",
            "rougher.input.feed_rate                               16347 non-null float64\n",
            "rougher.input.feed_size                               16443 non-null float64\n",
            "rougher.input.feed_sol                                16568 non-null float64\n",
            "rougher.input.feed_au                                 16777 non-null float64\n",
            "rougher.input.floatbank10_sulfate                     15816 non-null float64\n",
            "rougher.input.floatbank10_xanthate                    16514 non-null float64\n",
            "rougher.input.floatbank11_sulfate                     16237 non-null float64\n",
            "rougher.input.floatbank11_xanthate                    14956 non-null float64\n",
            "rougher.output.concentrate_ag                         16778 non-null float64\n",
            "rougher.output.concentrate_pb                         16778 non-null float64\n",
            "rougher.output.concentrate_sol                        16698 non-null float64\n",
            "rougher.output.concentrate_au                         16778 non-null float64\n",
            "rougher.output.recovery                               14287 non-null float64\n",
            "rougher.output.tail_ag                                14610 non-null float64\n",
            "rougher.output.tail_pb                                16778 non-null float64\n",
            "rougher.output.tail_sol                               14611 non-null float64\n",
            "rougher.output.tail_au                                14611 non-null float64\n",
            "rougher.state.floatbank10_a_air                       16807 non-null float64\n",
            "rougher.state.floatbank10_a_level                     16807 non-null float64\n",
            "rougher.state.floatbank10_b_air                       16807 non-null float64\n",
            "rougher.state.floatbank10_b_level                     16807 non-null float64\n",
            "rougher.state.floatbank10_c_air                       16807 non-null float64\n",
            "rougher.state.floatbank10_c_level                     16814 non-null float64\n",
            "rougher.state.floatbank10_d_air                       16802 non-null float64\n",
            "rougher.state.floatbank10_d_level                     16809 non-null float64\n",
            "rougher.state.floatbank10_e_air                       16257 non-null float64\n",
            "rougher.state.floatbank10_e_level                     16809 non-null float64\n",
            "rougher.state.floatbank10_f_air                       16802 non-null float64\n",
            "rougher.state.floatbank10_f_level                     16802 non-null float64\n",
            "secondary_cleaner.output.tail_ag                      16776 non-null float64\n",
            "secondary_cleaner.output.tail_pb                      16764 non-null float64\n",
            "secondary_cleaner.output.tail_sol                     14874 non-null float64\n",
            "secondary_cleaner.output.tail_au                      16778 non-null float64\n",
            "secondary_cleaner.state.floatbank2_a_air              16497 non-null float64\n",
            "secondary_cleaner.state.floatbank2_a_level            16751 non-null float64\n",
            "secondary_cleaner.state.floatbank2_b_air              16705 non-null float64\n",
            "secondary_cleaner.state.floatbank2_b_level            16748 non-null float64\n",
            "secondary_cleaner.state.floatbank3_a_air              16763 non-null float64\n",
            "secondary_cleaner.state.floatbank3_a_level            16747 non-null float64\n",
            "secondary_cleaner.state.floatbank3_b_air              16752 non-null float64\n",
            "secondary_cleaner.state.floatbank3_b_level            16750 non-null float64\n",
            "secondary_cleaner.state.floatbank4_a_air              16731 non-null float64\n",
            "secondary_cleaner.state.floatbank4_a_level            16747 non-null float64\n",
            "secondary_cleaner.state.floatbank4_b_air              16768 non-null float64\n",
            "secondary_cleaner.state.floatbank4_b_level            16767 non-null float64\n",
            "secondary_cleaner.state.floatbank5_a_air              16775 non-null float64\n",
            "secondary_cleaner.state.floatbank5_a_level            16775 non-null float64\n",
            "secondary_cleaner.state.floatbank5_b_air              16775 non-null float64\n",
            "secondary_cleaner.state.floatbank5_b_level            16776 non-null float64\n",
            "secondary_cleaner.state.floatbank6_a_air              16757 non-null float64\n",
            "secondary_cleaner.state.floatbank6_a_level            16775 non-null float64\n",
            "dtypes: float64(86), object(1)\n",
            "memory usage: 11.2+ MB\n",
            "None\n",
            "<class 'pandas.core.frame.DataFrame'>\n",
            "RangeIndex: 5856 entries, 0 to 5855\n",
            "Data columns (total 53 columns):\n",
            "date                                          5856 non-null object\n",
            "primary_cleaner.input.sulfate                 5554 non-null float64\n",
            "primary_cleaner.input.depressant              5572 non-null float64\n",
            "primary_cleaner.input.feed_size               5856 non-null float64\n",
            "primary_cleaner.input.xanthate                5690 non-null float64\n",
            "primary_cleaner.state.floatbank8_a_air        5840 non-null float64\n",
            "primary_cleaner.state.floatbank8_a_level      5840 non-null float64\n",
            "primary_cleaner.state.floatbank8_b_air        5840 non-null float64\n",
            "primary_cleaner.state.floatbank8_b_level      5840 non-null float64\n",
            "primary_cleaner.state.floatbank8_c_air        5840 non-null float64\n",
            "primary_cleaner.state.floatbank8_c_level      5840 non-null float64\n",
            "primary_cleaner.state.floatbank8_d_air        5840 non-null float64\n",
            "primary_cleaner.state.floatbank8_d_level      5840 non-null float64\n",
            "rougher.input.feed_ag                         5840 non-null float64\n",
            "rougher.input.feed_pb                         5840 non-null float64\n",
            "rougher.input.feed_rate                       5816 non-null float64\n",
            "rougher.input.feed_size                       5834 non-null float64\n",
            "rougher.input.feed_sol                        5789 non-null float64\n",
            "rougher.input.feed_au                         5840 non-null float64\n",
            "rougher.input.floatbank10_sulfate             5599 non-null float64\n",
            "rougher.input.floatbank10_xanthate            5733 non-null float64\n",
            "rougher.input.floatbank11_sulfate             5801 non-null float64\n",
            "rougher.input.floatbank11_xanthate            5503 non-null float64\n",
            "rougher.state.floatbank10_a_air               5839 non-null float64\n",
            "rougher.state.floatbank10_a_level             5840 non-null float64\n",
            "rougher.state.floatbank10_b_air               5839 non-null float64\n",
            "rougher.state.floatbank10_b_level             5840 non-null float64\n",
            "rougher.state.floatbank10_c_air               5839 non-null float64\n",
            "rougher.state.floatbank10_c_level             5840 non-null float64\n",
            "rougher.state.floatbank10_d_air               5839 non-null float64\n",
            "rougher.state.floatbank10_d_level             5840 non-null float64\n",
            "rougher.state.floatbank10_e_air               5839 non-null float64\n",
            "rougher.state.floatbank10_e_level             5840 non-null float64\n",
            "rougher.state.floatbank10_f_air               5839 non-null float64\n",
            "rougher.state.floatbank10_f_level             5840 non-null float64\n",
            "secondary_cleaner.state.floatbank2_a_air      5836 non-null float64\n",
            "secondary_cleaner.state.floatbank2_a_level    5840 non-null float64\n",
            "secondary_cleaner.state.floatbank2_b_air      5833 non-null float64\n",
            "secondary_cleaner.state.floatbank2_b_level    5840 non-null float64\n",
            "secondary_cleaner.state.floatbank3_a_air      5822 non-null float64\n",
            "secondary_cleaner.state.floatbank3_a_level    5840 non-null float64\n",
            "secondary_cleaner.state.floatbank3_b_air      5840 non-null float64\n",
            "secondary_cleaner.state.floatbank3_b_level    5840 non-null float64\n",
            "secondary_cleaner.state.floatbank4_a_air      5840 non-null float64\n",
            "secondary_cleaner.state.floatbank4_a_level    5840 non-null float64\n",
            "secondary_cleaner.state.floatbank4_b_air      5840 non-null float64\n",
            "secondary_cleaner.state.floatbank4_b_level    5840 non-null float64\n",
            "secondary_cleaner.state.floatbank5_a_air      5840 non-null float64\n",
            "secondary_cleaner.state.floatbank5_a_level    5840 non-null float64\n",
            "secondary_cleaner.state.floatbank5_b_air      5840 non-null float64\n",
            "secondary_cleaner.state.floatbank5_b_level    5840 non-null float64\n",
            "secondary_cleaner.state.floatbank6_a_air      5840 non-null float64\n",
            "secondary_cleaner.state.floatbank6_a_level    5840 non-null float64\n",
            "dtypes: float64(52), object(1)\n",
            "memory usage: 2.4+ MB\n",
            "None\n",
            "<class 'pandas.core.frame.DataFrame'>\n",
            "RangeIndex: 22716 entries, 0 to 22715\n",
            "Data columns (total 87 columns):\n",
            "date                                                  22716 non-null object\n",
            "final.output.concentrate_ag                           22627 non-null float64\n",
            "final.output.concentrate_pb                           22629 non-null float64\n",
            "final.output.concentrate_sol                          22331 non-null float64\n",
            "final.output.concentrate_au                           22630 non-null float64\n",
            "final.output.recovery                                 20753 non-null float64\n",
            "final.output.tail_ag                                  22633 non-null float64\n",
            "final.output.tail_pb                                  22516 non-null float64\n",
            "final.output.tail_sol                                 22445 non-null float64\n",
            "final.output.tail_au                                  22635 non-null float64\n",
            "primary_cleaner.input.sulfate                         21107 non-null float64\n",
            "primary_cleaner.input.depressant                      21170 non-null float64\n",
            "primary_cleaner.input.feed_size                       22716 non-null float64\n",
            "primary_cleaner.input.xanthate                        21565 non-null float64\n",
            "primary_cleaner.output.concentrate_ag                 22618 non-null float64\n",
            "primary_cleaner.output.concentrate_pb                 22268 non-null float64\n",
            "primary_cleaner.output.concentrate_sol                21918 non-null float64\n",
            "primary_cleaner.output.concentrate_au                 22618 non-null float64\n",
            "primary_cleaner.output.tail_ag                        22614 non-null float64\n",
            "primary_cleaner.output.tail_pb                        22594 non-null float64\n",
            "primary_cleaner.output.tail_sol                       22365 non-null float64\n",
            "primary_cleaner.output.tail_au                        22617 non-null float64\n",
            "primary_cleaner.state.floatbank8_a_air                22660 non-null float64\n",
            "primary_cleaner.state.floatbank8_a_level              22667 non-null float64\n",
            "primary_cleaner.state.floatbank8_b_air                22660 non-null float64\n",
            "primary_cleaner.state.floatbank8_b_level              22673 non-null float64\n",
            "primary_cleaner.state.floatbank8_c_air                22662 non-null float64\n",
            "primary_cleaner.state.floatbank8_c_level              22673 non-null float64\n",
            "primary_cleaner.state.floatbank8_d_air                22661 non-null float64\n",
            "primary_cleaner.state.floatbank8_d_level              22673 non-null float64\n",
            "rougher.calculation.sulfate_to_au_concentrate         22672 non-null float64\n",
            "rougher.calculation.floatbank10_sulfate_to_au_feed    22672 non-null float64\n",
            "rougher.calculation.floatbank11_sulfate_to_au_feed    22672 non-null float64\n",
            "rougher.calculation.au_pb_ratio                       21089 non-null float64\n",
            "rougher.input.feed_ag                                 22618 non-null float64\n",
            "rougher.input.feed_pb                                 22472 non-null float64\n",
            "rougher.input.feed_rate                               22163 non-null float64\n",
            "rougher.input.feed_size                               22277 non-null float64\n",
            "rougher.input.feed_sol                                22357 non-null float64\n",
            "rougher.input.feed_au                                 22617 non-null float64\n",
            "rougher.input.floatbank10_sulfate                     21415 non-null float64\n",
            "rougher.input.floatbank10_xanthate                    22247 non-null float64\n",
            "rougher.input.floatbank11_sulfate                     22038 non-null float64\n",
            "rougher.input.floatbank11_xanthate                    20459 non-null float64\n",
            "rougher.output.concentrate_ag                         22618 non-null float64\n",
            "rougher.output.concentrate_pb                         22618 non-null float64\n",
            "rougher.output.concentrate_sol                        22526 non-null float64\n",
            "rougher.output.concentrate_au                         22618 non-null float64\n",
            "rougher.output.recovery                               19597 non-null float64\n",
            "rougher.output.tail_ag                                19979 non-null float64\n",
            "rougher.output.tail_pb                                22618 non-null float64\n",
            "rougher.output.tail_sol                               19980 non-null float64\n",
            "rougher.output.tail_au                                19980 non-null float64\n",
            "rougher.state.floatbank10_a_air                       22646 non-null float64\n",
            "rougher.state.floatbank10_a_level                     22647 non-null float64\n",
            "rougher.state.floatbank10_b_air                       22646 non-null float64\n",
            "rougher.state.floatbank10_b_level                     22647 non-null float64\n",
            "rougher.state.floatbank10_c_air                       22646 non-null float64\n",
            "rougher.state.floatbank10_c_level                     22654 non-null float64\n",
            "rougher.state.floatbank10_d_air                       22641 non-null float64\n",
            "rougher.state.floatbank10_d_level                     22649 non-null float64\n",
            "rougher.state.floatbank10_e_air                       22096 non-null float64\n",
            "rougher.state.floatbank10_e_level                     22649 non-null float64\n",
            "rougher.state.floatbank10_f_air                       22641 non-null float64\n",
            "rougher.state.floatbank10_f_level                     22642 non-null float64\n",
            "secondary_cleaner.output.tail_ag                      22616 non-null float64\n",
            "secondary_cleaner.output.tail_pb                      22600 non-null float64\n",
            "secondary_cleaner.output.tail_sol                     20501 non-null float64\n",
            "secondary_cleaner.output.tail_au                      22618 non-null float64\n",
            "secondary_cleaner.state.floatbank2_a_air              22333 non-null float64\n",
            "secondary_cleaner.state.floatbank2_a_level            22591 non-null float64\n",
            "secondary_cleaner.state.floatbank2_b_air              22538 non-null float64\n",
            "secondary_cleaner.state.floatbank2_b_level            22588 non-null float64\n",
            "secondary_cleaner.state.floatbank3_a_air              22585 non-null float64\n",
            "secondary_cleaner.state.floatbank3_a_level            22587 non-null float64\n",
            "secondary_cleaner.state.floatbank3_b_air              22592 non-null float64\n",
            "secondary_cleaner.state.floatbank3_b_level            22590 non-null float64\n",
            "secondary_cleaner.state.floatbank4_a_air              22571 non-null float64\n",
            "secondary_cleaner.state.floatbank4_a_level            22587 non-null float64\n",
            "secondary_cleaner.state.floatbank4_b_air              22608 non-null float64\n",
            "secondary_cleaner.state.floatbank4_b_level            22607 non-null float64\n",
            "secondary_cleaner.state.floatbank5_a_air              22615 non-null float64\n",
            "secondary_cleaner.state.floatbank5_a_level            22615 non-null float64\n",
            "secondary_cleaner.state.floatbank5_b_air              22615 non-null float64\n",
            "secondary_cleaner.state.floatbank5_b_level            22616 non-null float64\n",
            "secondary_cleaner.state.floatbank6_a_air              22597 non-null float64\n",
            "secondary_cleaner.state.floatbank6_a_level            22615 non-null float64\n",
            "dtypes: float64(86), object(1)\n",
            "memory usage: 15.1+ MB\n",
            "None\n"
          ],
          "name": "stdout"
        }
      ]
    },
    {
      "cell_type": "markdown",
      "metadata": {
        "id": "kinCG9WF_o_C"
      },
      "source": [
        "1.1: Here, I read the datasets into dataframes, changed the index to the date, and looked at the data. All the data except the date indexes appear to be floats, and there are fewer columns in the test set than in the other two. There are a lot of missing values throughout the data."
      ]
    },
    {
      "cell_type": "code",
      "metadata": {
        "id": "9iDIDHYm_o_D",
        "outputId": "36c59327-4e94-48e1-cd49-2608049000ce"
      },
      "source": [
        "train['recovery_calculated'] = ((train['rougher.output.concentrate_au']*(train['rougher.input.feed_au']-train['rougher.output.tail_au']))/(train['rougher.input.feed_au']*(train['rougher.output.concentrate_au']-train['rougher.output.tail_au'])))* 100\n",
        "\n",
        "train_no_na = train.dropna()\n",
        "\n",
        "print('MAE:', mean_absolute_error(train_no_na['recovery_calculated'], train_no_na['rougher.output.recovery']))"
      ],
      "execution_count": null,
      "outputs": [
        {
          "output_type": "stream",
          "text": [
            "MAE: 9.555596961987514e-15\n"
          ],
          "name": "stdout"
        }
      ]
    },
    {
      "cell_type": "markdown",
      "metadata": {
        "id": "WMqFGDmp_o_M"
      },
      "source": [
        "1.2: Here, I calculated the recovery based on the formula we were given with the different columns in the train dataset for the flotation stage. Then I calculated the mean absolute error between these calculations and their values, and found that it is very close to 0, confirming that the recovery is calculated correctly. Since I haven't preprocessed the data yet, I had to dropna for the MAE function to work, but this should still be enough to confirm the calculations."
      ]
    },
    {
      "cell_type": "markdown",
      "metadata": {
        "id": "zVDIksY2_o_P"
      },
      "source": [
        "1.3: I then looked back at the column names for the train and test sets and determined the columns that aren't given in the test set, which are all of the output values for each stage plus some called rougher.calculation, which seem to be calculating ratios of different components. These are likely not in the test set because they are measurements for observation as opposed to measurements that would affect the gold amounts and so shouldn't be used in the model."
      ]
    },
    {
      "cell_type": "code",
      "metadata": {
        "id": "x1rvsMrj_o_R"
      },
      "source": [
        "train = train.fillna(0)\n",
        "test = test.fillna(0)\n",
        "full = full.fillna(0)"
      ],
      "execution_count": null,
      "outputs": []
    },
    {
      "cell_type": "markdown",
      "metadata": {
        "id": "7uZe5zvs_o_Z"
      },
      "source": [
        "1.4: \n",
        "\n",
        "- The datatypes are fine, but there are plenty of missing values in all the datasets. I chose to fill them all in with 0 because most of them are measurements of chemicals that probably are just not present in the sludge if there's a missing value. If this isn't the case for some columns, the number of missing values is small enough compared to the filled values for it not to affect the model's performance too much.  "
      ]
    },
    {
      "cell_type": "markdown",
      "metadata": {
        "id": "PHXN2JA__o_c"
      },
      "source": [
        "# 2. Analyze the data"
      ]
    },
    {
      "cell_type": "code",
      "metadata": {
        "id": "DU0gzPQh_o_d",
        "outputId": "bb7d84f4-3b7a-4ebc-ff1c-e60356cb5e2d"
      },
      "source": [
        "print('Silver:', full['rougher.input.feed_ag'].mean(), '-->',\n",
        "full['rougher.output.concentrate_ag'].mean(), '-->',\n",
        "full['primary_cleaner.output.concentrate_ag'].mean(), '-->',\n",
        "full['final.output.concentrate_ag'].mean())\n",
        "\n",
        "print('Lead:', full['rougher.input.feed_pb'].mean(), '-->',\n",
        "full['rougher.output.concentrate_pb'].mean(), '-->',\n",
        "full['primary_cleaner.output.concentrate_pb'].mean(), '-->',\n",
        "full['final.output.concentrate_pb'].mean())\n",
        "\n",
        "print('Gold:', full['rougher.input.feed_au'].mean(), '-->', \n",
        "full['rougher.output.concentrate_au'].mean(), '-->',\n",
        "full['primary_cleaner.output.concentrate_au'].mean(), '-->',\n",
        "full['final.output.concentrate_au'].mean())"
      ],
      "execution_count": null,
      "outputs": [
        {
          "output_type": "stream",
          "text": [
            "Silver: 8.030918721075652 --> 10.827569702119838 --> 7.658468903190332 --> 4.762825572878352\n",
            "Lead: 3.270168463586653 --> 6.870875872633261 --> 8.745169657099943 --> 9.060473988300497\n",
            "Gold: 7.532864611680439 --> 17.802403375427513 --> 29.086262804482388 --> 39.8497323475366\n"
          ],
          "name": "stdout"
        }
      ]
    },
    {
      "cell_type": "markdown",
      "metadata": {
        "id": "LRg_xvYo_o_p"
      },
      "source": [
        "2.1 I used the full dataset and got the mean concentrations of all the metals at each output stage and the raw feed. I found that the amount of silver decreased while the amount of lead increased, but gold had the most dramatic increase and ended up having 5 times higher concentration than the raw input."
      ]
    },
    {
      "cell_type": "code",
      "metadata": {
        "id": "tEGgfgAL_o_r",
        "outputId": "a80d35c3-5ef2-43f0-e42a-d2051c1dd77f"
      },
      "source": [
        "print('Training:')\n",
        "train.hist('rougher.input.feed_size', range=[0, 200])\n",
        "plt.show()\n",
        "train.hist('primary_cleaner.input.feed_size', range=[0, 10])\n",
        "plt.show()\n",
        "\n",
        "print('Test:')\n",
        "test.hist('rougher.input.feed_size', range=[0, 200])\n",
        "plt.show()\n",
        "test.hist('primary_cleaner.input.feed_size', range=[0, 10])\n",
        "plt.show()"
      ],
      "execution_count": null,
      "outputs": [
        {
          "output_type": "stream",
          "text": [
            "Training:\n"
          ],
          "name": "stdout"
        },
        {
          "output_type": "display_data",
          "data": {
            "image/png": "[encoded data removed]",
            "text/plain": [
              "<Figure size 432x288 with 1 Axes>"
            ]
          },
          "metadata": {
            "tags": [],
            "needs_background": "light"
          }
        },
        {
          "output_type": "display_data",
          "data": {
            "image/png": "[encoded data removed]",
            "text/plain": [
              "<Figure size 432x288 with 1 Axes>"
            ]
          },
          "metadata": {
            "tags": [],
            "needs_background": "light"
          }
        },
        {
          "output_type": "stream",
          "text": [
            "Test:\n"
          ],
          "name": "stdout"
        },
        {
          "output_type": "display_data",
          "data": {
            "image/png": "[encoded data removed]",
            "text/plain": [
              "<Figure size 432x288 with 1 Axes>"
            ]
          },
          "metadata": {
            "tags": [],
            "needs_background": "light"
          }
        },
        {
          "output_type": "display_data",
          "data": {
            "image/png": "[encoded data removed]",
            "text/plain": [
              "<Figure size 432x288 with 1 Axes>"
            ]
          },
          "metadata": {
            "tags": [],
            "needs_background": "light"
          }
        }
      ]
    },
    {
      "cell_type": "markdown",
      "metadata": {
        "id": "IYppEopW_o_z"
      },
      "source": [
        "2.2. As we can see from the histograms, in both stages the feed size distributions are quite similar, which means they won't throw off the model."
      ]
    },
    {
      "cell_type": "code",
      "metadata": {
        "id": "bTJvGnRa_o_2",
        "outputId": "6e9ce7f2-f1fe-45fd-fdc9-a7714e844344"
      },
      "source": [
        "full['sum_raw_feed'] = full['rougher.input.feed_ag'] + full['rougher.input.feed_pb'] + full['rougher.input.feed_au']\n",
        "full['sum_rougher_concentrate'] = full['rougher.output.concentrate_ag'] + full['rougher.output.concentrate_pb'] + full['rougher.output.concentrate_au']\n",
        "full['sum_final_concentrate'] = full['final.output.concentrate_ag'] + full['final.output.concentrate_pb'] + full['final.output.concentrate_au']\n",
        "\n",
        "full.hist('sum_raw_feed', bins=20)\n",
        "full.hist('sum_rougher_concentrate', bins=20)\n",
        "full.hist('sum_final_concentrate', bins=20)\n",
        "\n",
        "train['sum_raw_feed'] = train['rougher.input.feed_ag'] + train['rougher.input.feed_pb'] + train['rougher.input.feed_au']\n",
        "test['sum_raw_feed'] = test['rougher.input.feed_ag'] + test['rougher.input.feed_pb'] + test['rougher.input.feed_au']\n",
        "\n",
        "train = train[train['sum_raw_feed'] > 0]\n",
        "test = test[test['sum_raw_feed'] > 0]\n",
        "full = full[full['sum_raw_feed'] > 0]\n",
        "\n",
        "full.hist('sum_raw_feed', bins=20)\n",
        "full.hist('sum_rougher_concentrate', bins=20)\n",
        "full.hist('sum_final_concentrate', bins=20)"
      ],
      "execution_count": null,
      "outputs": [
        {
          "output_type": "execute_result",
          "data": {
            "text/plain": [
              "array([[<matplotlib.axes._subplots.AxesSubplot object at 0x7efed6d72050>]],\n",
              "      dtype=object)"
            ]
          },
          "metadata": {
            "tags": []
          },
          "execution_count": 7
        },
        {
          "output_type": "display_data",
          "data": {
            "image/png": "[encoded data removed]",
            "text/plain": [
              "<Figure size 432x288 with 1 Axes>"
            ]
          },
          "metadata": {
            "tags": [],
            "needs_background": "light"
          }
        },
        {
          "output_type": "display_data",
          "data": {
            "image/png": "[encoded data removed]",
            "text/plain": [
              "<Figure size 432x288 with 1 Axes>"
            ]
          },
          "metadata": {
            "tags": [],
            "needs_background": "light"
          }
        },
        {
          "output_type": "display_data",
          "data": {
            "image/png": "[encoded data removed]",
            "text/plain": [
              "<Figure size 432x288 with 1 Axes>"
            ]
          },
          "metadata": {
            "tags": [],
            "needs_background": "light"
          }
        },
        {
          "output_type": "display_data",
          "data": {
            "image/png": "[encoded data removed]",
            "text/plain": [
              "<Figure size 432x288 with 1 Axes>"
            ]
          },
          "metadata": {
            "tags": [],
            "needs_background": "light"
          }
        },
        {
          "output_type": "display_data",
          "data": {
            "image/png": "[encoded data removed]",
            "text/plain": [
              "<Figure size 432x288 with 1 Axes>"
            ]
          },
          "metadata": {
            "tags": [],
            "needs_background": "light"
          }
        },
        {
          "output_type": "display_data",
          "data": {
            "image/png": "[encoded data removed]",
            "text/plain": [
              "<Figure size 432x288 with 1 Axes>"
            ]
          },
          "metadata": {
            "tags": [],
            "needs_background": "light"
          }
        }
      ]
    },
    {
      "cell_type": "markdown",
      "metadata": {
        "id": "Lnd4ZiGB_o_-"
      },
      "source": [
        "2.3. The histograms show there are a lot of entries with very close to zero for all concentrations, which could be because I filled all the missing values with zeroes. I decided to remove all entries with the rougher.input.feed concentrations 0 from all the datasets. I then ran the histograms again and the peaks near 0 were reduced."
      ]
    },
    {
      "cell_type": "markdown",
      "metadata": {
        "id": "lAzWOwvV_pAB"
      },
      "source": [
        "# 3. Build the model"
      ]
    },
    {
      "cell_type": "code",
      "metadata": {
        "id": "v2kIjYhP_pAC",
        "outputId": "55ba8704-a7a2-47bd-a62b-e9df86652ebd"
      },
      "source": [
        "#columns to drop from the training features\n",
        "drop_columns = ['date', 'recovery_calculated', 'sum_raw_feed',\n",
        "                'final.output.concentrate_ag', 'final.output.concentrate_pb', 'final.output.concentrate_sol', 'final.output.concentrate_au', 'final.output.recovery', 'final.output.tail_ag', 'final.output.tail_pb', 'final.output.tail_sol', 'final.output.tail_au',\n",
        "               'primary_cleaner.output.concentrate_ag', 'primary_cleaner.output.concentrate_pb', 'primary_cleaner.output.concentrate_sol', 'primary_cleaner.output.concentrate_au', 'primary_cleaner.output.tail_ag', 'primary_cleaner.output.tail_pb', 'primary_cleaner.output.tail_sol', 'primary_cleaner.output.tail_au', \n",
        "                'rougher.calculation.sulfate_to_au_concentrate', 'rougher.calculation.floatbank10_sulfate_to_au_feed', 'rougher.calculation.floatbank11_sulfate_to_au_feed', 'rougher.calculation.au_pb_ratio',\n",
        "               'rougher.output.concentrate_ag', 'rougher.output.concentrate_pb', 'rougher.output.concentrate_sol', 'rougher.output.concentrate_au', 'rougher.output.recovery', 'rougher.output.tail_ag', 'rougher.output.tail_pb', 'rougher.output.tail_sol', 'rougher.output.tail_au',\n",
        "               'secondary_cleaner.output.tail_ag', 'secondary_cleaner.output.tail_pb', 'secondary_cleaner.output.tail_sol', 'secondary_cleaner.output.tail_au']\n",
        "\n",
        "features = train.drop(drop_columns, axis=1)\n",
        "target = train[['rougher.output.recovery', 'final.output.recovery']]\n",
        "\n",
        "features_train, features_valid, target_train, target_valid = train_test_split(features, target, test_size=0.25, random_state=12345)\n",
        "\n",
        "features_test = test.drop(['date', 'sum_raw_feed'], axis=1)\n",
        "target_test = test.merge(full, on='date', how='left')[['rougher.output.recovery', 'final.output.recovery']]\n",
        "\n",
        "print(features_train.shape, target_train.shape, features_valid.shape, target_valid.shape, features_test.shape, target_test.shape)"
      ],
      "execution_count": null,
      "outputs": [
        {
          "output_type": "stream",
          "text": [
            "(11714, 52) (11714, 2) (3905, 52) (3905, 2) (5471, 52) (5471, 2)\n"
          ],
          "name": "stdout"
        }
      ]
    },
    {
      "cell_type": "markdown",
      "metadata": {
        "id": "5QSaCkAg_pAL"
      },
      "source": [
        "I then created the train, valid, and test features and targets. \n",
        "\n",
        "- To split the training set into train and valid, I first dropped all the columns not in the test dataset, plus the date and the recovery_calculated from the last step, making that the features, and got the two columns we need to predict for the target, then split those using train_test_split.  \n",
        "- For the test set, the features are what's in the test dataset minus the date. I got the target from the full dataset by merging them on the date column, keeping only the entries present in the test dataset and selecting only the columns we need to predict. I then printed the shapes of everything to make sure they matched."
      ]
    },
    {
      "cell_type": "code",
      "metadata": {
        "id": "pUUbXoe0_pAM"
      },
      "source": [
        "def smape(prediction, target):\n",
        "    sum_values = (abs(target - prediction))/((abs(target)+abs(prediction))/2)\n",
        "    return sum_values.mean() * 100 \n",
        "\n",
        "def total_smape(rougher_prediction, rougher_target, final_prediction, final_target):\n",
        "    return (0.25 * smape(rougher_prediction, rougher_target)) + (0.75 * smape(final_prediction, final_target))"
      ],
      "execution_count": null,
      "outputs": []
    },
    {
      "cell_type": "markdown",
      "metadata": {
        "id": "gJRCoiYL_pAT"
      },
      "source": [
        "3.1 Here I defined a function to calculate the sMAPE for a prediction and target series, and a function that makes use of that one to calculate the total sMAPE given series of the rougher and final values."
      ]
    },
    {
      "cell_type": "code",
      "metadata": {
        "id": "OMUVPtlz_pAV",
        "outputId": "ef0b201f-be26-42e6-e40b-f8faef3a5adf"
      },
      "source": [
        "#Decision tree\n",
        "for n in range (1, 20):\n",
        "    model = DecisionTreeRegressor(max_depth=n, random_state=12345)\n",
        "\n",
        "    model.fit(features_train, target_train['rougher.output.recovery'])\n",
        "    predictions_rougher = model.predict(features_valid)\n",
        "\n",
        "    model.fit(features_train, target_train['final.output.recovery'])\n",
        "    predictions_final = model.predict(features_valid)\n",
        "    \n",
        "    print(total_smape(predictions_rougher, target_valid['rougher.output.recovery'], predictions_final, target_valid['final.output.recovery']))"
      ],
      "execution_count": null,
      "outputs": [
        {
          "output_type": "stream",
          "text": [
            "19.060850537268117\n",
            "18.98249940676926\n",
            "18.29674468642792\n",
            "17.735545535457085\n",
            "17.565005060533736\n",
            "16.030152055617886\n",
            "15.88419642641886\n",
            "14.962392126573086\n",
            "15.042773467885599\n",
            "14.907407041881758\n",
            "14.905190366110475\n",
            "14.60199119874756\n",
            "14.171323543516134\n",
            "14.346840721550457\n",
            "14.59654445084426\n",
            "13.816142703313197\n",
            "14.00823794703679\n",
            "14.152917410345053\n",
            "13.966460418908794\n"
          ],
          "name": "stdout"
        }
      ]
    },
    {
      "cell_type": "code",
      "metadata": {
        "id": "YdDZ4qCj_pAe",
        "outputId": "5c164e19-194c-4651-d681-cf816c6bdd0d"
      },
      "source": [
        "#Random forest\n",
        "model = RandomForestRegressor(n_estimators=100, max_depth=12, random_state=12345)\n",
        "\n",
        "model.fit(features_train, target_train['rougher.output.recovery'])\n",
        "predictions_rougher = model.predict(features_valid)\n",
        "\n",
        "model.fit(features_train, target_train['final.output.recovery'])\n",
        "predictions_final = model.predict(features_valid)\n",
        "\n",
        "print(total_smape(predictions_rougher, target_valid['rougher.output.recovery'], predictions_final, target_valid['final.output.recovery']))"
      ],
      "execution_count": null,
      "outputs": [
        {
          "output_type": "stream",
          "text": [
            "15.644686239651351\n"
          ],
          "name": "stdout"
        }
      ]
    },
    {
      "cell_type": "code",
      "metadata": {
        "id": "P9lGObNd_pAn",
        "outputId": "b72ff22e-77fd-4b4e-a9c4-2c722a4ccd4d"
      },
      "source": [
        "#Linear regression\n",
        "model = LinearRegression()\n",
        "\n",
        "model.fit(features_train, target_train['rougher.output.recovery'])\n",
        "predictions_rougher = model.predict(features_valid)\n",
        "\n",
        "model.fit(features_train, target_train['final.output.recovery'])\n",
        "predictions_final = model.predict(features_valid)\n",
        "\n",
        "print(total_smape(predictions_rougher, target_valid['rougher.output.recovery'], predictions_final, target_valid['final.output.recovery']))"
      ],
      "execution_count": null,
      "outputs": [
        {
          "output_type": "stream",
          "text": [
            "18.48734045715465\n"
          ],
          "name": "stdout"
        }
      ]
    },
    {
      "cell_type": "code",
      "metadata": {
        "id": "JOwiBrgt_pAz",
        "outputId": "5eb08b57-cd44-4784-b3b1-909259b382e8"
      },
      "source": [
        "#Testing on test set\n",
        "model = DecisionTreeRegressor(max_depth = 5, random_state=12345)\n",
        "\n",
        "model.fit(features_train, target_train['rougher.output.recovery'])\n",
        "predictions_rougher = model.predict(features_test)\n",
        "\n",
        "model.fit(features_train, target_train['final.output.recovery'])\n",
        "predictions_final = model.predict(features_test)\n",
        "\n",
        "print(total_smape(predictions_rougher, target_test['rougher.output.recovery'], predictions_final, target_test['final.output.recovery']))"
      ],
      "execution_count": null,
      "outputs": [
        {
          "output_type": "stream",
          "text": [
            "14.425815505266588\n"
          ],
          "name": "stdout"
        }
      ]
    },
    {
      "cell_type": "markdown",
      "metadata": {
        "id": "e8NF0vOC_pA6"
      },
      "source": [
        "3.2 I then tried different models on the training and validation sets to try to get the lowest sMAPE. I did this by training the model on one of the targets at a time, then combining those predictions into the final sMAPE function. I tried various depths for the decision tree, but only one variation of the random forest due to the long runtime. I found that a decision tree regressor with a max depth of 16 worked well with a sMAPE of 13.8 so that's what I used in the final test on the test set, which had a sMAPE of 29. That was bigger than I wanted and it was probably from overfitting, so I decreased the max depth to 6 and the sMAPE decreased to 14.4"
      ]
    },
    {
      "cell_type": "markdown",
      "metadata": {
        "id": "0ssHe4NN_pA7"
      },
      "source": [
        "### Conclusion\n",
        "\n",
        "We have been able to predict the amount of gold we can get out of ore with machine learning models."
      ]
    }
  ]
}